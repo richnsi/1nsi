{
 "cells": [
  {
   "cell_type": "markdown",
   "metadata": {},
   "source": [
    "# Tri par sélection"
   ]
  },
  {
   "cell_type": "markdown",
   "metadata": {},
   "source": [
    "Ce notebook est à travailler avec le [chapitre 6 du cours](https://www.guenee.net/courses/1NSI/document/06-Algorithmique/06-Algorithmique6-nsi-cours-1920-v02.7.pdf), paragraphe **6.2** (tri par sélection). Les exercices numérotés 6.1, 6.2, etc. ci-dessous sont ceux que vous retrouverez dans le pdf du cours."
   ]
  },
  {
   "cell_type": "markdown",
   "metadata": {},
   "source": [
    "## Partie 1 - Exercices préliminaires"
   ]
  },
  {
   "cell_type": "markdown",
   "metadata": {},
   "source": [
    "### Exercice 6.1 - Parcours de boucle (*cf.* cours pdf)"
   ]
  },
  {
   "cell_type": "markdown",
   "metadata": {},
   "source": [
    "Étant donné un tableau **tab** à trier et une variable **debut** contenant l’indice du premier élément du tableau non trié\n",
    "appelé aussi « sous-tableau de droite » (initialisé à zéro au début du tri), compléter la ligne suivante pour créer une boucle parcourant tous les indices du sous-tableau de droite :"
   ]
  },
  {
   "cell_type": "code",
   "execution_count": null,
   "metadata": {},
   "outputs": [],
   "source": [
    "tab = [4, 1, 5, 8, 2]\n",
    "debut = 0\n",
    "for i in range(debut, len(tab)):\n",
    "    print(i, tab[i]) # on affiche les valeurs de i et de tab[i] pour vérifier le fonctionnement de votre boucle"
   ]
  },
  {
   "cell_type": "markdown",
   "metadata": {},
   "source": [
    "<span style='color:red'>**Notes de correction** :\n",
    "On a complété le *range* en donnant deux paramètres : l'indice auquel il faut commencer et l'indice de fin avant lequel il faut s'arrêter. Si début était toujours égal à zéro, on pourrait se contenter de *range(len(tab))*, mais l'algorithme de tri par sélection va incrémenter debut après chaque boucle for. Ainsi, la première fois on parcourt les indices 0 à la fin. La deuxième fois, on parcourt les indices 1 à la fin. Ensuite les indices 2 à la fin, etc. En effet, à chaque fois, le sous-tableau de gauche étant considéré comme trié, il n'y a plus à parcourir cette partie.</span>"
   ]
  },
  {
   "cell_type": "markdown",
   "metadata": {},
   "source": [
    "### **Exercice 6.2 - Fonction d'échange** (*cf.* cours pdf)"
   ]
  },
  {
   "cell_type": "markdown",
   "metadata": {},
   "source": [
    "Étant donné un tableau **tab** et deux variables **m** et **n** contenant les indices de deux cases du tableau à permuter, écrire la définition d’une fonction **echange(tab, m, n)** qui échange les valeurs situées aux indices **m** et **n**.\n",
    "Remarque : cette fonction ne retourne rien car le tableau est modifié en place, donc pas besoin de *return* à la fin."
   ]
  },
  {
   "cell_type": "code",
   "execution_count": null,
   "metadata": {},
   "outputs": [],
   "source": [
    "def echange(tab, m, n):\n",
    "    tempo = tab[m]\n",
    "    tab[m] = tab[n]\n",
    "    tab[n] = tempo\n",
    "    # ... pas besoin de return à la fin\n",
    "    \n",
    "# vérification sur un exemple\n",
    "tableau = [4, 1, 5, 8, 2]\n",
    "a = 0\n",
    "b = 1\n",
    "print(\"tableau avant échange :\", tableau)\n",
    "echange(tableau, a, b)\n",
    "print(\"tableau après échange :\", tableau)"
   ]
  },
  {
   "cell_type": "markdown",
   "metadata": {},
   "source": [
    "<span style='color:red'>**Notes de correction** :\n",
    "On utilise une variable temporaire pour stocker la valeur initialement contenue dans tab[m], sinon la ligne _tab[m] = tab[n]_ fait perdre celui-ci par écrasement.\n",
    "En Python, on peut utiliser une syntaxe particulière, propre à ce langage, et plus élégante :\n",
    "_tab[m], tab[n] = tab[n], tab[m]_\n",
    "Mais il faut avoir conscience que c'est une tournure _pythonique_ qu'on ne retrouve pas dans la plupart des langages comme C, Java, Javascript, PHP, etc.</span>\n",
    "\n",
    "<span style='color:red'>Il n'y a pas de _return_ car la modification se fait sur le tableau passé en argument. On travaille directement sur son emplacement en mémoire. Ici la fonction est appelée sur la variable *tableau*, elle est directement modifiée, il n'y a rien de plus à retourner.\n",
    "</span>"
   ]
  },
  {
   "cell_type": "markdown",
   "metadata": {},
   "source": [
    "### Exercice 6.3 - Recherche du plus petit élément (*cf.* pdf cours)"
   ]
  },
  {
   "cell_type": "markdown",
   "metadata": {},
   "source": [
    "Étant donné un tableau **tab** à trier et une variable **debut** contenant l’indice du premier élément du sous-tableau à\n",
    "trier, écrire une boucle (on pourra reprendre et adapter la solution de l’exercice 6.1) qui place dans une variable **mini**\n",
    "l’indice du plus petit élément de ce tableau."
   ]
  },
  {
   "cell_type": "code",
   "execution_count": null,
   "metadata": {},
   "outputs": [],
   "source": [
    "tab = [1, 4, 7, 3, 5]\n",
    "debut = 1\n",
    "mini = debut\n",
    "for i in range(debut + 1, len(tab)):\n",
    "    if tab[i] < tab[mini]:\n",
    "        mini = i\n",
    "print(\"L'élément le plus petit du tableau\", tab,\"à partir de l'élément d'indice\", debut, \"est à l'indice\", mini,\" et sa valeur est :\", tab[mini])"
   ]
  },
  {
   "cell_type": "markdown",
   "metadata": {},
   "source": [
    "<span style='color:red'>**Notes de correction** :\n",
    "La variable _mini_ stocke, à un instant donné, l'indice de la plus petite valeur rencontrée au cours de la boucle. Il faut au préalable l'initialiser avec une valeur. On va considérer que la première valeur à analyser (à l'indice *debut*) est la plus petite. Dès lors, il n'est pas nécessaire de démarrer la boucle à _debut_ mais à _debut + 1_. Cela ne posera d'ailleurs pas de problème si jamais _debut = 4_ (dernier indice du tableau). Au cours de la boucle, si on trouve que _tab[i]_ est plus petit que *tab[mini]*, alors on modifie la valeur de _mini_.\n",
    "</span>"
   ]
  },
  {
   "cell_type": "markdown",
   "metadata": {},
   "source": [
    "## Partie 2 - Implémentation de l'algorithme"
   ]
  },
  {
   "cell_type": "markdown",
   "metadata": {},
   "source": [
    "Voici le programme Python présenté dans le cours et implémentant l'algorithme de tri par sélection."
   ]
  },
  {
   "cell_type": "code",
   "execution_count": null,
   "metadata": {},
   "outputs": [],
   "source": [
    "def echange(tab, m, n):\n",
    "    temp = tab[m]\n",
    "    tab[m] = tab[n]\n",
    "    tab[n] = temp\n",
    "\n",
    "def tri_selection(tab):\n",
    "    for i in range(0, len(tab)):\n",
    "        mini = i\n",
    "        for j in range(i + 1, len(tab)):\n",
    "            if tab[j] < tab[mini]:\n",
    "                mini = j\n",
    "        echange(tab, i, mini)"
   ]
  },
  {
   "cell_type": "markdown",
   "metadata": {},
   "source": [
    "### Exercice - Test"
   ]
  },
  {
   "cell_type": "markdown",
   "metadata": {},
   "source": [
    "Vérifiez que la fonction **tri_selection()** réalise bien ce qu'elle est censée faire en définissant les variables avec des valeurs de test puis en appelant la fonction **tri_selection()**."
   ]
  },
  {
   "cell_type": "code",
   "execution_count": null,
   "metadata": {},
   "outputs": [],
   "source": [
    "\"\"\" une proposition de tests possibles, en utilisant :\n",
    "un tableau contenant tous les cas à tester,\n",
    "une boucle pour les parcourir,\n",
    "une fonction test pour éviter d'avoir à réécrire plusieurs fois les mêmes lignes \"\"\"\n",
    "def test(tab):\n",
    "    print(\"Test.\")\n",
    "    print(\"Avant tri : \", tab)\n",
    "    tri_selection(tab)\n",
    "    print(\"Après tri : \", tab)\n",
    "    \n",
    "tableaux = [[4, 3, 2, 1],\n",
    "            [3, 2, 0, 2],\n",
    "            [1, 2, 3 ,4],\n",
    "            [-1, -2, -10, -5]]\n",
    "for t in tableaux:\n",
    "    test(t)\n"
   ]
  },
  {
   "cell_type": "markdown",
   "metadata": {},
   "source": [
    "<span style='color:red'>**Notes de correction** :\n",
    "On peut bien sûr faire plus simple mais il est intéressant de voir comment organiser les tests. Dans les cas choisis, on rencontre plusieurs exemples qu'il peut être intéressant de tester :</span>\n",
    "- <span style='color:red'> le pire cas (ordre inverse) ;</span>\n",
    "- <span style='color:red'> un cas avec des doublons (deux fois la valeur 2) ;</span>\n",
    "- <span style='color:red'> le meilleur cas (il n'y a rien à changer, c'est déjà trié) ;</span>\n",
    "- <span style='color:red'> des valeurs négatives</span>"
   ]
  },
  {
   "cell_type": "markdown",
   "metadata": {},
   "source": [
    "### Exercice 6.5 - Tri décroissant"
   ]
  },
  {
   "cell_type": "markdown",
   "metadata": {},
   "source": [
    "Recopier puis modifier le code de la fonction **tri_selection()** pour créer une nouvelle fonction appelée **tri_selection_dec()** qui réalisera un tri par sélection dans l'ordre **décroissant**."
   ]
  },
  {
   "cell_type": "code",
   "execution_count": null,
   "metadata": {},
   "outputs": [],
   "source": [
    "def tri_selection_dec(tab):\n",
    "    for i in range(0, len(tab)):\n",
    "        mini = i\n",
    "        for j in range(i + 1, len(tab)):\n",
    "            if tab[j] > tab[mini]:\n",
    "                mini = j\n",
    "        echange(tab, i, mini)\n",
    "   \n",
    "# test\n",
    "tab = [1, 7, 3, 8, 4]\n",
    "tri_selection_dec(tab)\n",
    "print(\"Tableau trié par ordre décroissant :\", tab)"
   ]
  },
  {
   "cell_type": "markdown",
   "metadata": {},
   "source": [
    "<span style='color:red'>**Notes de correction** :\n",
    "Ici la modification ne se fait que sur la comparaison, ligne 5, où l'on teste si _tab[j]_ est supérieure (et non inférieure) à _tab[mini]_.</span>"
   ]
  }
 ],
 "metadata": {
  "kernelspec": {
   "display_name": "Python 3",
   "language": "python",
   "name": "python3"
  },
  "language_info": {
   "codemirror_mode": {
    "name": "ipython",
    "version": 3
   },
   "file_extension": ".py",
   "mimetype": "text/x-python",
   "name": "python",
   "nbconvert_exporter": "python",
   "pygments_lexer": "ipython3",
   "version": "3.7.3"
  }
 },
 "nbformat": 4,
 "nbformat_minor": 2
}
