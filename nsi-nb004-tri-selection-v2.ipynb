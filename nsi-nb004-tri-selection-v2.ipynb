{
 "cells": [
  {
   "cell_type": "markdown",
   "metadata": {},
   "source": [
    "# Tri par sélection"
   ]
  },
  {
   "cell_type": "markdown",
   "metadata": {},
   "source": [
    "Ce notebook est à travailler avec le [chapitre 6 du cours](https://www.guenee.net/courses/1NSI/document/06-Algorithmique/06-Algorithmique6-nsi-cours-1920-v02.7.pdf), paragraphe **6.2** (tri par sélection). Les exercices numérotés 6.1, 6.2, etc. ci-dessous sont ceux que vous retrouverez dans le pdf du cours."
   ]
  },
  {
   "cell_type": "markdown",
   "metadata": {},
   "source": [
    "## Partie 1 - Exercices préliminaires"
   ]
  },
  {
   "cell_type": "markdown",
   "metadata": {},
   "source": [
    "### Exercice 6.1 - Parcours de boucle (*cf.* cours pdf)"
   ]
  },
  {
   "cell_type": "markdown",
   "metadata": {},
   "source": [
    "Étant donné un tableau **tab** à trier et une variable **debut** contenant l’indice du premier élément du tableau non trié\n",
    "appelé aussi « sous-tableau de droite » (initialisé à zéro au début du tri), compléter la ligne suivante pour créer une boucle parcourant tous les indices du sous-tableau de droite :"
   ]
  },
  {
   "cell_type": "code",
   "execution_count": null,
   "metadata": {},
   "outputs": [],
   "source": [
    "tab = [4, 1, 5, 8, 2]\n",
    "debut = 0\n",
    "for i in range(...):  # <--- compléter à la place des pointillés\n",
    "    print(i, tab[i]) # on affiche les valeurs de i et de tab[i] pour vérifier le fonctionnement de votre boucle"
   ]
  },
  {
   "cell_type": "markdown",
   "metadata": {},
   "source": [
    "### **Exercice 6.2 - Fonction d'échange** (*cf.* cours pdf)"
   ]
  },
  {
   "cell_type": "markdown",
   "metadata": {},
   "source": [
    "Étant donné un tableau **tab** et deux variables **m** et **n** contenant les indices de deux cases du tableau à permuter, écrire la définition d’une fonction **echange(tab, m, n)** qui échange les valeurs situées aux indices **m** et **n**.\n",
    "Remarque : cette fonction ne retourne rien car le tableau est modifié en place, donc pas besoin de *return* à la fin."
   ]
  },
  {
   "cell_type": "code",
   "execution_count": null,
   "metadata": {},
   "outputs": [],
   "source": [
    "def echange(tab, m, n):\n",
    "    # ... écrire la fonction ...\n",
    "    \n",
    "    # ... pas besoin de return à la fin\n",
    "    \n",
    "# vérification sur un exemple\n",
    "tableau = [4, 1, 5, 8, 2]\n",
    "a = 0\n",
    "b = 1\n",
    "print(\"tableau avant échange :\", tableau)\n",
    "echange(tableau, a, b)\n",
    "print(\"tableau après échange :\", tableau)"
   ]
  },
  {
   "cell_type": "markdown",
   "metadata": {},
   "source": [
    "### Exercice 6.3 - Recherche du plus petit élément (*cf.* pdf cours)"
   ]
  },
  {
   "cell_type": "markdown",
   "metadata": {},
   "source": [
    "Étant donné un tableau **tab** à trier et une variable **debut** contenant l’indice du premier élément du sous-tableau à\n",
    "trier, écrire une boucle (on pourra reprendre et adapter la solution de l’exercice 6.1) qui place dans une variable **mini**\n",
    "l’indice du plus petit élément de ce tableau."
   ]
  },
  {
   "cell_type": "code",
   "execution_count": null,
   "metadata": {},
   "outputs": [],
   "source": [
    "tab = [1, 4, 7, 3, 5]\n",
    "debut = 1\n",
    "# ... écrire le code ici\n",
    "\n",
    "\n",
    "\n",
    "print(\"L'élément le plus petit du tableau\", tab,\"à partir de l'élément d'indice\", debut, \"est à l'indice\", mini,\" et sa valeur est :\", tab[mini])\n"
   ]
  },
  {
   "cell_type": "markdown",
   "metadata": {},
   "source": [
    "## Partie 2 - Implémentation de l'algorithme"
   ]
  },
  {
   "cell_type": "markdown",
   "metadata": {},
   "source": [
    "Voici le programme Python présenté dans le cours et implémentant l'algorithme de tri par sélection."
   ]
  },
  {
   "cell_type": "code",
   "execution_count": null,
   "metadata": {},
   "outputs": [],
   "source": [
    "def echange(tab, m, n):\n",
    "    temp = tab[m]\n",
    "    tab[m] = tab[n]\n",
    "    tab[n] = temp\n",
    "\n",
    "def tri_selection(tab):\n",
    "    for i in range(0, len(tab)):\n",
    "        mini = i\n",
    "        for j in range(i + 1, len(tab)):\n",
    "            if tab[j] < tab[mini]:\n",
    "                mini = j\n",
    "        echange(tab, i, mini)"
   ]
  },
  {
   "cell_type": "markdown",
   "metadata": {},
   "source": [
    "### Exercice - Test"
   ]
  },
  {
   "cell_type": "markdown",
   "metadata": {},
   "source": [
    "Vérifiez que la fonction **tri_selection()** réalise bien ce qu'elle est censée faire en définissant les variables avec des valeurs de test puis en appelant la fonction **tri_selection()**."
   ]
  },
  {
   "cell_type": "code",
   "execution_count": null,
   "metadata": {},
   "outputs": [],
   "source": [
    "# ..."
   ]
  },
  {
   "cell_type": "markdown",
   "metadata": {},
   "source": [
    "### Exercice 6.5 - Tri décroissant"
   ]
  },
  {
   "cell_type": "markdown",
   "metadata": {},
   "source": [
    "Recopier puis modifier le code de la fonction **tri_selection()** pour créer une nouvelle fonction appelée **tri_selection_dec()** qui réalisera un tri par sélection dans l'ordre **décroissant**."
   ]
  },
  {
   "cell_type": "code",
   "execution_count": null,
   "metadata": {},
   "outputs": [],
   "source": [
    "def tri_selection_dec(tab):\n",
    "    # ...\n",
    "    \n",
    "    \n",
    "    \n",
    "# test\n",
    "tab = [1, 7, 3, 8, 4]\n",
    "tri_selection_dec(tab)\n",
    "print(\"Tableau trié par ordre décroissant :\", tab)"
   ]
  },
  {
   "cell_type": "code",
   "execution_count": null,
   "metadata": {},
   "outputs": [],
   "source": []
  }
 ],
 "metadata": {
  "kernelspec": {
   "display_name": "Python 3",
   "language": "python",
   "name": "python3"
  },
  "language_info": {
   "codemirror_mode": {
    "name": "ipython",
    "version": 3
   },
   "file_extension": ".py",
   "mimetype": "text/x-python",
   "name": "python",
   "nbconvert_exporter": "python",
   "pygments_lexer": "ipython3",
   "version": "3.7.3"
  }
 },
 "nbformat": 4,
 "nbformat_minor": 2
}
