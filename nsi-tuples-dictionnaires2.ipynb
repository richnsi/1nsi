{
 "cells": [
  {
   "cell_type": "markdown",
   "metadata": {},
   "source": [
    "# Types construits"
   ]
  },
  {
   "cell_type": "markdown",
   "metadata": {},
   "source": [
    "Nous avons déjà rencontrés de nombreux types de données, qui permettent de représenter toutes sortes d'informations: des nombres avec les types **entier** ou **flottant**, des textes avec les **chaînes de caractère**, des **booléens**, etc. Nous avons également travaillé avec des *tableaux de nombres* ou des **tableaux de chaînes de caractères**, qui sont des types construits de nature séquentielle. Pour représenter des collections de données de différents types, il est très pratique de les regrouper sous la forme d'un nouveau type construit : les **n-uplets** (ou ***tuples***) et les **dictionnaires**."
   ]
  },
  {
   "cell_type": "markdown",
   "metadata": {},
   "source": [
    "# Le type n-uplet ou *tuple*"
   ]
  },
  {
   "cell_type": "markdown",
   "metadata": {},
   "source": [
    "Un objet de type ***tuple*** (ou n-uplet ou p-uplet...) est une suite ordonnée et finie d'objets."
   ]
  },
  {
   "cell_type": "markdown",
   "metadata": {},
   "source": [
    "En Python, un *tuple* est défini par un ensemble de valeurs (qui peuvent être de différents types), entre parenthèses et séparées par des virgules. Exemple :"
   ]
  },
  {
   "cell_type": "code",
   "execution_count": null,
   "metadata": {},
   "outputs": [],
   "source": [
    "profil = ('Jean', 'Dupont', 'H', 34, 'France')"
   ]
  },
  {
   "cell_type": "markdown",
   "metadata": {},
   "source": [
    "Pour accéder à l'une des valeurs du *tuple*, on retrouve la même syntaxe que pour les chaînes de caractères et les tableaux : il faut préciser entre crochet l'indice de la valeur (le premier élément est toujours à l'indice 0)."
   ]
  },
  {
   "cell_type": "markdown",
   "metadata": {},
   "source": [
    "**Exercice 1** : afficher le pays associé à l'individu décrit par la variable profil ci-dessus. Attention : veillez à bien exécuter le code précédent (il doit y avoir un nombre entre crochets dans la marge gauche) : cliquer dans la zone de code et appuyer sur *Shift + Entrée*."
   ]
  },
  {
   "cell_type": "code",
   "execution_count": null,
   "metadata": {},
   "outputs": [],
   "source": [
    "# exo 1 : afficher le pays associé à l'individu décrit par la variable profil\n"
   ]
  },
  {
   "cell_type": "markdown",
   "metadata": {},
   "source": [
    "Certains opérateurs déjà rencontrés avec d'autres types sont utilisables aussi avec les *tuples* :\n",
    "* *len()* : retourner le nombre d'éléments du *tuple*\n",
    "* *in* : tester l'appartenance à un *tuple*\n",
    "* \\+ : concaténer (ajouter) deux ou plusieurs *tuples*\n",
    "* \\* : répéter un *tuple*.\n",
    "\n",
    "Tester (ou modifier) les commandes suivantes pour mieux comprendre :"
   ]
  },
  {
   "cell_type": "code",
   "execution_count": null,
   "metadata": {},
   "outputs": [],
   "source": [
    "notes = (14, 20, 8.5, 10, 13)"
   ]
  },
  {
   "cell_type": "code",
   "execution_count": null,
   "metadata": {},
   "outputs": [],
   "source": [
    "12 in notes"
   ]
  },
  {
   "cell_type": "code",
   "execution_count": null,
   "metadata": {},
   "outputs": [],
   "source": [
    "len(notes)"
   ]
  },
  {
   "cell_type": "code",
   "execution_count": null,
   "metadata": {},
   "outputs": [],
   "source": [
    "notes + (18, 6)"
   ]
  },
  {
   "cell_type": "markdown",
   "metadata": {},
   "source": [
    "**Remarque 1** : En Python, il n'est pas nécessaire de préciser les parenthèses si le *tuple* n'est pas lui-même contenu dans une expression plus longue. Cependant, elles facilitent la lisibilité du code."
   ]
  },
  {
   "cell_type": "markdown",
   "metadata": {},
   "source": [
    "**Remarque 2** : Dans certains cas, on peut avoir besoin d'un *tuple* vide : \\(\\). Dans d'autres cas, on peut avoir besoin d'un *tuple* contenant un seul élément. Prenons l'exemple d'un tuple contenant le nombre 4 : l'expression **(4)** étant évaluée comme étant un nombre entouré de parenthèses, il faut utiliser la syntaxe **(4,)** pour faire comprendre à l'interpréteur Python que l'on définit explicitement un *tuple*."
   ]
  },
  {
   "cell_type": "markdown",
   "metadata": {},
   "source": [
    "**Exercice 2** : ajouter la note 17 à la variable notes précédemment définie. Le résultat doit être un nouveau *tuple* incluant cette note."
   ]
  },
  {
   "cell_type": "code",
   "execution_count": null,
   "metadata": {},
   "outputs": [],
   "source": [
    "# exo 2 : créer un nouveau tuple à partir de notes et de la valeur 17\n"
   ]
  },
  {
   "cell_type": "markdown",
   "metadata": {},
   "source": [
    "**Remarque 3** : Attention, contrairement aux tableaux (appelés listes en Python), les *tuples* ne sont pas des objets modifiables, on dit qu'ils sont immuables (comme les chaînes de caractères). Tester ci-dessous les différentes instructions."
   ]
  },
  {
   "cell_type": "code",
   "execution_count": null,
   "metadata": {},
   "outputs": [],
   "source": [
    "tab = [1, 3, 5, 7, 9]\n",
    "tup = (1, 3, 5, 7, 9)"
   ]
  },
  {
   "cell_type": "code",
   "execution_count": null,
   "metadata": {},
   "outputs": [],
   "source": [
    "tab[3] = 6\n",
    "tab"
   ]
  },
  {
   "cell_type": "code",
   "execution_count": null,
   "metadata": {},
   "outputs": [],
   "source": [
    "tup[3] = 6\n",
    "tup"
   ]
  },
  {
   "cell_type": "markdown",
   "metadata": {},
   "source": [
    "**Exercice 3** : écrire une fonction appelée *division* qui reçoit deux arguments entier : un dividende **a** et un diviseur **b**. La fonction doit retourner deux valeurs, sous forme d'un *tuple* contenant, dans l'ordre, le quotient et le reste par division entière de **a** par **b**. Pour aller plus loin, on pourra rafiner en vérifiant que la division est possible et en n'acceptant que des valeurs entières (c'est l'objet des deux derniers tests, en commentaires, ci-dessous)."
   ]
  },
  {
   "cell_type": "code",
   "execution_count": null,
   "metadata": {},
   "outputs": [],
   "source": [
    "# exo 3 : définir la fonction division()"
   ]
  },
  {
   "cell_type": "code",
   "execution_count": null,
   "metadata": {},
   "outputs": [],
   "source": [
    "# exécuter les instructions suivantes pour tester la fonction :\n",
    "division(16,2)\n",
    "division(10, 3)\n",
    "# division(10, 2.5)\n",
    "# division(20, 0)"
   ]
  },
  {
   "cell_type": "markdown",
   "metadata": {},
   "source": [
    "# Le type *dictionnaire*"
   ]
  },
  {
   "cell_type": "markdown",
   "metadata": {},
   "source": [
    "Un dictionnaire est un type construit rassemblant un ensemble de données (de types quelconques) indexés non pas par des nombres (commes les indices permettant d'accéder aux éléments d'une chaîne, d'un tableau ou d'un *tuple*) mais par des **clés**, qui sont la plupart du temps des chaînes de caractères."
   ]
  },
  {
   "cell_type": "markdown",
   "metadata": {},
   "source": [
    "En Python, un dictionnaire peut être défini par une suite d'ensembles clé - valeur séparés par des virgules, le tout entre accolades. Le caractère *deux points* \"\\:\" sépare la clé de sa valeur. Exemples :"
   ]
  },
  {
   "cell_type": "code",
   "execution_count": null,
   "metadata": {},
   "outputs": [],
   "source": [
    "animaux = {}  # dictionnaire vide \n",
    "\n",
    "profil = {'prenom':'John', 'nom':'Doe', 'age':25, 'pays':'UK', 'contacts':('mail', 'mobile')}"
   ]
  },
  {
   "cell_type": "markdown",
   "metadata": {},
   "source": [
    "Mais les dictionnaires sont rarement définis d'emblée de cette façon. Comme les tableaux (et contrairement aux *tuples* et aux chaînes de caractère), les dictionnaires sont muables ou mutables (c'est-à-dire modifiables). "
   ]
  },
  {
   "cell_type": "markdown",
   "metadata": {},
   "source": [
    "Voici une façon de rajouter une nouvelle entrée au dictionnaire (une entrée est un couple *clé - valeur*, un peu comme une nouvelle entrée dans un dictionnaire est une nouvelle association entre un mot et une définition)."
   ]
  },
  {
   "cell_type": "code",
   "execution_count": null,
   "metadata": {},
   "outputs": [],
   "source": [
    "animaux['chats'] = ('Mistigri', 'Moustache', 'Pompon')\n",
    "animaux['chiens'] = ('Rantaplan', 'Milou')"
   ]
  },
  {
   "cell_type": "markdown",
   "metadata": {},
   "source": [
    "**Exercice 4** :\n",
    "* Afficher le pays correspondant à la variable **profil** définie juste avant.\n",
    "* Afficher le contenu de la variable **animaux** pour vérifier que les nouvelles entrées y figurent.\n",
    "* Afficher uniquement le premier nom de chien (Rantanplan).\n",
    "* Modifier le dictionnaire **animaux**pour ajouter deux noms de poissons.\n",
    "* Modifier le dictionnaire **animaux** pour ajouter *Médor* à l'entrée *'Chiens'*."
   ]
  },
  {
   "cell_type": "code",
   "execution_count": null,
   "metadata": {},
   "outputs": [],
   "source": [
    "# exo 4 : répondre ci-dessous\n"
   ]
  },
  {
   "cell_type": "markdown",
   "metadata": {},
   "source": [
    "* Pour accéder uniquement aux clés d'un dictionnaire, on utilise la méthode **keys()** sur l'objet dictionnaire ;\n",
    "* Pour accéder uniquement aux valeurs, on utilise la méthode **values()** ;\n",
    "* Enfin, la méthode **items()** retourne sous forme de *tuples* tous les couples clés-valeurs.\n",
    "* L'opérateur **in** permet de tester l'appartenance d'un élément à ses clés ou à ses valeurs.\n",
    "* La fonction **len()** retourne le nombre d'entrées du dictionnaire.\n",
    "\n",
    "Voici ci-dessous quelques exemples à tester. Vous remarquerez le point entre le nom de la variable et le nom de la méthode (sans espace). Ces méthodes sont en fait d'un fonctions, elles ne requièrent ici aucun argument mais il ne faut pas oublier les \\(\\)."
   ]
  },
  {
   "cell_type": "code",
   "execution_count": null,
   "metadata": {},
   "outputs": [],
   "source": [
    "# exécuter les instructions ci-dessous :\n",
    "print(animaux.keys())\n",
    "print('poisson' in animaux.keys())\n",
    "print(animaux.values())\n",
    "print('Jolly Jumper' in animaux.values())"
   ]
  },
  {
   "cell_type": "markdown",
   "metadata": {},
   "source": [
    "Expliquer le résultat obtenu pour l'instruction ci-dessous."
   ]
  },
  {
   "cell_type": "code",
   "execution_count": null,
   "metadata": {},
   "outputs": [],
   "source": [
    "'Moustache' in animaux.values()"
   ]
  },
  {
   "cell_type": "markdown",
   "metadata": {},
   "source": [
    "## Parcourir un dictionnaire"
   ]
  },
  {
   "cell_type": "markdown",
   "metadata": {},
   "source": [
    "Pour parcourir un dictionnaire, on utilise une boucle **for**. Plusieurs parcours sont possibles :\n",
    "* parcourir toutes les clés : **for cle in d** ou **for cle in d.keys()**\n",
    "* parcourir toutes les valeurs : **for valeur in d.values()**\n",
    "* parcourir tous les couples *clé-valeur* (retournés sous forme de *tuples*) : **for cle, valeur in d.items()**"
   ]
  },
  {
   "cell_type": "markdown",
   "metadata": {},
   "source": [
    "**Exercice 5** : À l'aide d'une boucle **for**, afficher successivement tous les noms d'animaux contenus dans **animaux**."
   ]
  },
  {
   "cell_type": "code",
   "execution_count": null,
   "metadata": {},
   "outputs": [],
   "source": [
    "# exo 5"
   ]
  },
  {
   "cell_type": "markdown",
   "metadata": {},
   "source": [
    "**Exercice 6** : Le tableau **votes** contient la liste non ordonnée de tous les bulletins de votes nominatifs dépouillés pour une élection de délégués de classe. Chaque bulletin est dépouillé sous la forme d'un *tuple* de deux noms. Il n'y a aucun bulletin nul. Ecrire une fonction **depouillement** qui reçoit le tableau en argument et retourne un dictionnaire où chaque entrée correspond au nom de l'élève et la valeur associée est son nombre de voix.  "
   ]
  },
  {
   "cell_type": "code",
   "execution_count": null,
   "metadata": {},
   "outputs": [],
   "source": [
    "# exo 6\n",
    "def depouillement(v):\n",
    "    # écrire le code ici\n",
    "    pass\n",
    "    \n",
    "# appel\n",
    "votes = [('Lucie', 'Inès'), ('Antoine', 'Aminata'), ('Inès', 'Sarah'), ('Maria', 'Inès'), ('Mathias', 'Antoine'), ('Mathias', 'Sofia'), ('Sarah', 'Aminata'), ('Mathias', 'Sarah'), ('Maria', 'Antonin'), ('Anna', 'Julie'), ('Antonin', 'Anna'), ('Antoine', 'Anna'), ('Julie', 'Mathias'), ('Sarah', 'Julie'), ('Anna', 'Mathias'), ('Margaux', 'Sarah'), ('Anna', 'Julie'), ('Mathias', 'Sarah'), ('Antonin', 'Aminata'), ('Antoine', 'Sarah'), ('Arthur', 'Antoine'), ('Julie', 'Inès'), ('Arthur', 'Pauline'), ('Matteo', 'Julie'), ('Arthur', 'Aminata'), ('Sarah', 'Matteo')]\n",
    "\n",
    "depouillement(votes)\n",
    "    \n",
    "    "
   ]
  },
  {
   "cell_type": "markdown",
   "metadata": {},
   "source": [
    "**Exercice 7** : Ecrire une fonction qui retourne les noms des deux vainqueurs."
   ]
  },
  {
   "cell_type": "code",
   "execution_count": null,
   "metadata": {},
   "outputs": [],
   "source": [
    "# exo 7"
   ]
  }
 ],
 "metadata": {
  "kernelspec": {
   "display_name": "Python 3",
   "language": "python",
   "name": "python3"
  },
  "language_info": {
   "codemirror_mode": {
    "name": "ipython",
    "version": 3
   },
   "file_extension": ".py",
   "mimetype": "text/x-python",
   "name": "python",
   "nbconvert_exporter": "python",
   "pygments_lexer": "ipython3",
   "version": "3.7.6"
  }
 },
 "nbformat": 4,
 "nbformat_minor": 4
}
