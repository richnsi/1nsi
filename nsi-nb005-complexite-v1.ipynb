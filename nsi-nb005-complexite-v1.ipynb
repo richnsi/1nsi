{
 "cells": [
  {
   "cell_type": "markdown",
   "metadata": {},
   "source": [
    "# Efficacité des algorithmes : la complexité"
   ]
  },
  {
   "cell_type": "markdown",
   "metadata": {},
   "source": [
    "Ce notebook est à travailler avec le [chapitre 6 du cours](https://www.guenee.net/courses/1NSI/document/06-Algorithmique/6-nsi-cours-1920-v02.7.pdf), paragraphe 6.3.\n",
    "\n",
    "Ce notebook permettra également un travail plus expérimental, avec des mesures de durée d'exécution."
   ]
  },
  {
   "cell_type": "markdown",
   "metadata": {},
   "source": [
    "### Exemple de calcul de coût : fonction *recherche*"
   ]
  },
  {
   "cell_type": "markdown",
   "metadata": {},
   "source": [
    "Voici un exemple de recherche de valeur dans un tableau. Le code présenté dans le cours a été placé dans une fonction **recherche** :\n",
    "- elle admet en entrée un tableau de nombres et le nombre à rechercher dans le tableau ;\n",
    "- elle retourne le premier indice dans le tableau de cette valeur. Elle retourne None si la valeur n'y figure pas."
   ]
  },
  {
   "cell_type": "code",
   "execution_count": null,
   "metadata": {},
   "outputs": [],
   "source": [
    "def recherche(tab, val):\n",
    "    \"\"\" La fonction accepte deux arguments :\n",
    "    - un tableau de nombres ;\n",
    "    - une valeur (nombre) à rechercher dans le tableau.\n",
    "    Elle retourne l'indice de la première occurrence de la valeur dans le tableau\n",
    "    ou None si jamais la valeur n'appartient pas au tableau.\"\"\" \n",
    "    i = 0 # initialisation du compteur\n",
    "    n = len(tab) # taille du tableau\n",
    "    while i < n:\n",
    "        if tab[i] == val:\n",
    "            return i\n",
    "        i += 1"
   ]
  },
  {
   "cell_type": "code",
   "execution_count": null,
   "metadata": {},
   "outputs": [],
   "source": [
    "# écrire vos tests à la suite\n"
   ]
  },
  {
   "cell_type": "markdown",
   "metadata": {},
   "source": [
    "**Question 1** - Tester la fonction **recherche** en proposant des exemples de tableau(x) de valeurs et différents appels pour tester les cas : \n",
    "- la valeur est présente ;\n",
    "- la valeur est absente ;\n",
    "- la valeur recherchée est présente au moins deux fois dans le tableau."
   ]
  },
  {
   "cell_type": "code",
   "execution_count": null,
   "metadata": {},
   "outputs": [],
   "source": [
    "# écrire votre code à la suite\n"
   ]
  },
  {
   "cell_type": "markdown",
   "metadata": {},
   "source": [
    "### Mesure de temps d'éxecution (méthode n° 1)"
   ]
  },
  {
   "cell_type": "markdown",
   "metadata": {},
   "source": [
    "Une première méthode pour mesurer une durée d'exécution est d'utiliser la fonction *time* du module *time*. Elle renvoie le nombre de secondes écoulées, au moment de son appel, depuis le 1er janvier 1970 à minuit. On peut appeler cette fonction une première fois avant l'appel de la fonction **recherche**, stocker le résultat dans une variable, puis appeler à nouveau time à l'issue de la recherche et comparer (différence) les deux temps pour avoir une mesure de la durée écoulée pendant l'exécution."
   ]
  },
  {
   "cell_type": "code",
   "execution_count": null,
   "metadata": {},
   "outputs": [],
   "source": [
    "# import de la fonction time\n",
    "from time import time"
   ]
  },
  {
   "cell_type": "code",
   "execution_count": null,
   "metadata": {},
   "outputs": [],
   "source": [
    "# exemple d'appel de la fonction time() :\n",
    "# exécuter plusieurs fois pour voir le temps s'écouler...\n",
    "time()"
   ]
  },
  {
   "cell_type": "code",
   "execution_count": null,
   "metadata": {},
   "outputs": [],
   "source": [
    "# exemple de mesure de temps écoulé\n",
    "# exécuter cette cellule pour \"démarrer\" le chrono\n",
    "start = time()"
   ]
  },
  {
   "cell_type": "code",
   "execution_count": null,
   "metadata": {},
   "outputs": [],
   "source": [
    "# exécuter cette cellule pour voir le temps écoulé depuis le démarrage\n",
    "print(time() - start)\n",
    "# P.S. : svp, ne perdez pas votre temps à essayer de battre des records pour \n",
    "# avoir la valeur la plus petite ;-)"
   ]
  },
  {
   "cell_type": "markdown",
   "metadata": {},
   "source": [
    "**Question 2** - Mesurer la durée d'exécution de la fonction **recherche** définie précédemment pour la valeur 1001 dans le tableau *tab* suivant (elle ne s'y trouve pas). Répéter éventuellement plusieurs fois l'exécution pour voir s'il y a de grandes différences de résultat entre chaque exécution. *On pourra éventuellement programmer dix appels et faire une moyenne des résultats.*"
   ]
  },
  {
   "cell_type": "code",
   "execution_count": null,
   "metadata": {},
   "outputs": [],
   "source": [
    "tab_mille = [i for i in range(1000)] # contient mille valeurs (de 0 à 1000)\n",
    "start = time()\n",
    "# écrivez la suite..."
   ]
  },
  {
   "cell_type": "markdown",
   "metadata": {},
   "source": [
    "**Question 3** - Une fois le tableau *tab_dixmille* défini ci-dessous, mesurer à nouveau une durée d'exécution pour l'appel de **recherche** pour une valeur 10001. Conclure sur l'évolution de la durée en passant de 1 000 à 10 000 valeurs."
   ]
  },
  {
   "cell_type": "code",
   "execution_count": null,
   "metadata": {},
   "outputs": [],
   "source": [
    "# crée un tableau de 10 000 valeurs (de 0 à 10 000)\n",
    "tab_dixmille = # à compléter"
   ]
  },
  {
   "cell_type": "code",
   "execution_count": null,
   "metadata": {},
   "outputs": [],
   "source": [
    "# écrire ici la mesure de durée d'exécution pour la recherche de 10001 dans tab_dixmille.\n",
    "# ..."
   ]
  },
  {
   "cell_type": "markdown",
   "metadata": {},
   "source": [
    "### Mesure de temps d'éxecution (méthode n° 2)"
   ]
  },
  {
   "cell_type": "markdown",
   "metadata": {},
   "source": [
    "La fonction **somme_mat** définie ci-dessous calcule la somme de deux matrices (une matrice est un tableau à deux dimensions que l'on peut représenter en Python par un tableau de tableaux). Si la matrice est carré, alors le tableau et ses sous-tableaux ont la même taille."
   ]
  },
  {
   "cell_type": "code",
   "execution_count": null,
   "metadata": {},
   "outputs": [],
   "source": [
    "def matrice_carree(n):\n",
    "    \"\"\"\n",
    "        n est un nombre entier\n",
    "        la fonction retourne une matrice carrée de taille n x n,\n",
    "        remplie avec des nombres entiers croissants (c'est un cas particulier)\n",
    "        Une matrice carrée est un tableau de n tableaux de taille n.\n",
    "        Exemple de matrice de taille 3 x 3 : \n",
    "            [[1, 2, 3], [4, 5, 6], [7, 8, 8]]\n",
    "    \"\"\"\n",
    "    return [[k for k in range(i, i+n)] for i in range(0, n*n, n)]"
   ]
  },
  {
   "cell_type": "code",
   "execution_count": null,
   "metadata": {},
   "outputs": [],
   "source": [
    "def somme_mat(m1, m2):\n",
    "    \"\"\"\n",
    "        Reçoit en argument deux matrices carrées de même taille\n",
    "        Retourne une matrice carrée de même taille dont chacun des éléments\n",
    "        de position x, y est la somme des éléments de m1 et m2 à la même\n",
    "        position.\n",
    "        Exemple : [[1, 3], [0, 2]] + [[3, 0], [1, 5]] = [[4, 3], [1, 7]]\n",
    "    \"\"\"\n",
    "    s = []\n",
    "    for i in range(len(m1)):\n",
    "        ligne = []\n",
    "        for j in range(len(m1)):\n",
    "            ligne.append(m1[i][j] + m2[i][j])\n",
    "        s.append(ligne)\n",
    "    return s"
   ]
  },
  {
   "cell_type": "markdown",
   "metadata": {},
   "source": [
    "La fonction **matrice_carree** génère des matrices carrées en les remplissant avec des nombres croissants de 1 à n^2. Bien sûr, ce n'est qu'un cas particulier de matrice carrées."
   ]
  },
  {
   "cell_type": "markdown",
   "metadata": {},
   "source": [
    "La deuxième méthode de mesure expérimentale que nous allons voir est l'utilisation de la fonction magique **%timeit**, qui mesure le temps moyen d’exécution d’un code sur un très grand nombre d’exécutions. Pour mesurer la durée moyenne d’exécution d’une fonction *my_function(paramètre)*, on l’appelle ainsi :\n",
    "**%timeit my_function(paramètre)**"
   ]
  },
  {
   "cell_type": "markdown",
   "metadata": {},
   "source": [
    "**Question 4** - Utiliser **%timeit** sur l'appel de la fonction **matrice_carree**, d'abord avec le paramètre 10 puis 100. Comparer les durées d'exécution."
   ]
  },
  {
   "cell_type": "code",
   "execution_count": null,
   "metadata": {},
   "outputs": [],
   "source": [
    "# Mesure de durée d'exécution de matrice_carree pour une taille de 10x10 (ordre 10)\n",
    "# écrire votre code ici..."
   ]
  },
  {
   "cell_type": "code",
   "execution_count": null,
   "metadata": {},
   "outputs": [],
   "source": [
    "# Mesure de durée d'exécution de matrice_carree pour une taille de 100x100 (ordre 100)\n",
    "# écrire votre code ici..."
   ]
  },
  {
   "cell_type": "markdown",
   "metadata": {},
   "source": [
    "**Question 5** - Ecrire une fonction **test_somme** qui reçoit en paramètre un nombre entier *n* (ordre des matrices carrées à créer), qui génère deux matrices carrées d'ordre *n* (on réutilisera la fonction **matrice_carree**) et qui appelle la fonction **somme_mat** sur ces deux matrices. On placera l'instruction **%timeit** sur l'appel de **somme_mat** afin de mesurer cette fois le temps de calcul de cette fonction. La fonction ne renvoie rien."
   ]
  },
  {
   "cell_type": "code",
   "execution_count": null,
   "metadata": {},
   "outputs": [],
   "source": [
    "# écrire le code ici ..."
   ]
  }
 ],
 "metadata": {
  "kernelspec": {
   "display_name": "Python 3",
   "language": "python",
   "name": "python3"
  },
  "language_info": {
   "codemirror_mode": {
    "name": "ipython",
    "version": 3
   },
   "file_extension": ".py",
   "mimetype": "text/x-python",
   "name": "python",
   "nbconvert_exporter": "python",
   "pygments_lexer": "ipython3",
   "version": "3.7.3"
  }
 },
 "nbformat": 4,
 "nbformat_minor": 2
}
