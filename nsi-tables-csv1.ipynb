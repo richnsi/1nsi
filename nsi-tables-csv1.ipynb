{
 "cells": [
  {
   "cell_type": "markdown",
   "metadata": {},
   "source": [
    "# Traitement de données en tables"
   ]
  },
  {
   "cell_type": "markdown",
   "metadata": {},
   "source": [
    "Une  des  utilisations  principales  de  l’informatique  de  nos  jours  est  le  traitement  de  quantités  importantes  de  données  dans  des domaines très variés : un site de commerce en ligne peut avoir à gérer des bases données pour des dizaines de milliers (voire plus) d’articles en vente, de clients, de commandes, un hopital doit pouvoir accéder efficacement à tous les détails de traitements de ses patients, etc. Mais si les logiciels de traitement de base de données sont des programmes hautement spécialisés pour effectuer ce genre de tâches le plus efficacement possible, il est facile de mettre en œuvre les opérations de base dans un langage de programmation comme Python. Nous allons en illustrer quelque unes."
   ]
  },
  {
   "cell_type": "markdown",
   "metadata": {},
   "source": [
    "## Le format CSV"
   ]
  },
  {
   "cell_type": "markdown",
   "metadata": {},
   "source": [
    "Le format **csv** (pour _comma separated values_, soit en français _valeurs séparées par des virgules_) est un format très pratique pour représenter des données structurées. Dans ce format, chaque ligne représente un **enregistrement** et, sur une même ligne, les différents **champs** de l’enregistrement sont séparés par une virgule (d’où le nom) ou un point-virgule."
   ]
  },
  {
   "cell_type": "markdown",
   "metadata": {},
   "source": [
    "Dans la suite, nous allons utiliser un fichier nommé _data.csv_ qui contient des données sur les communes de France. En voici les premières lignes :"
   ]
  },
  {
   "cell_type": "raw",
   "metadata": {},
   "source": [
    "Code;Libellé;Population municipale 2016;Boulangerie 2017\n",
    "01001;L'Abergement-Clémenciat;767;1\n",
    "01002;L'Abergement-de-Varey;243;0\n",
    "01004;Ambérieu-en-Bugey;14081;8\n",
    "01005;Ambérieux-en-Dombes;1671;1\n",
    "01006;Ambléon;110;0\n",
    "01007;Ambronay;2684;1"
   ]
  },
  {
   "cell_type": "markdown",
   "metadata": {},
   "source": [
    "Les champs sont ici clairement séparés par des points-virgules. La première ligne contient l'entête, c'est-à-dire les noms des différents champs. Les données sont issues du site https://statistiques-locales.insee.fr"
   ]
  },
  {
   "cell_type": "markdown",
   "metadata": {},
   "source": [
    "## Importation des données"
   ]
  },
  {
   "cell_type": "markdown",
   "metadata": {},
   "source": [
    "Une façon de charger un fichier csv en Python est d’utiliser la bibliothèque du même nom. Voici une portion de code permettant de charger le fichier _data.csv_ avec des points-virgules comme délimitations."
   ]
  },
  {
   "cell_type": "code",
   "execution_count": 11,
   "metadata": {},
   "outputs": [],
   "source": [
    "import csv\n",
    "\n",
    "communes = []\n",
    "\n",
    "with open('data.csv', newline='', encoding='utf-8') as csvfile:\n",
    "    spamreader = csv.reader(csvfile, delimiter=';')\n",
    "    for row in spamreader:\n",
    "        communes.append(row)"
   ]
  },
  {
   "cell_type": "markdown",
   "metadata": {},
   "source": [
    "**Question 1** : Après avoir analysé le code ci-dessus et exécuté la commande suivante, indiquer quel type construit est contenu dans la variable **communes** ?"
   ]
  },
  {
   "cell_type": "code",
   "execution_count": 12,
   "metadata": {},
   "outputs": [
    {
     "data": {
      "text/plain": [
       "['Code', 'Libellé', 'Population municipale 2016', 'Boulangerie 2017']"
      ]
     },
     "execution_count": 12,
     "metadata": {},
     "output_type": "execute_result"
    }
   ],
   "source": [
    "communes[0]"
   ]
  },
  {
   "cell_type": "markdown",
   "metadata": {},
   "source": [
    "**Question 2** : En déduire le type de données contenu dans **communes[1]** ?"
   ]
  },
  {
   "cell_type": "markdown",
   "metadata": {},
   "source": []
  }
 ],
 "metadata": {
  "kernelspec": {
   "display_name": "Python 3",
   "language": "python",
   "name": "python3"
  },
  "language_info": {
   "codemirror_mode": {
    "name": "ipython",
    "version": 3
   },
   "file_extension": ".py",
   "mimetype": "text/x-python",
   "name": "python",
   "nbconvert_exporter": "python",
   "pygments_lexer": "ipython3",
   "version": "3.7.3"
  }
 },
 "nbformat": 4,
 "nbformat_minor": 4
}
