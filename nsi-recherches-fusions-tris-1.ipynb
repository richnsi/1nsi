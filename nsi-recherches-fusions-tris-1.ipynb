{
 "cells": [
  {
   "cell_type": "markdown",
   "metadata": {},
   "source": [
    "# Données en tables : recherches, fusions et tris (partie 1)"
   ]
  },
  {
   "cell_type": "markdown",
   "metadata": {},
   "source": [
    "Les données sur lesquelles nous travaillons sont présentées en général dans des **tableaux** ou dans des **dictionnaires**. Nous allons aborder (ou revoir) les principaux traitements susceptibles d'êtres effectués sur des données : \n",
    "* **valider** les informations afin d'éliminer les valeurs incohérentes et de les rendre exploitables\n",
    "* **rechercher** les objets répondant à un ou plusieurs critères ;\n",
    "* **fusionner** plusieurs tables en une seule, sous certaines conditions (par exemple : éviter les doublons, ne conserver que les descripteurs communs, etc.) ;\n",
    "* **trier** la table suivant un ou plusieurs critères (le cas des tris fera l'objet d'un chapitre à part entière)."
   ]
  },
  {
   "cell_type": "markdown",
   "metadata": {},
   "source": [
    "# 1 - Lecture du fichier csv et récupération des données"
   ]
  },
  {
   "cell_type": "markdown",
   "metadata": {},
   "source": [
    "Pour ces trois premières parties, nous allons utiliser la base de données des **passagers du Titanic**, disponible sous forme d'un fichier *csv*.\n",
    "\n",
    "Le code ci-dessous se charge d'importer le fichier texte. On propose **deux versions différentes** de parcours du fichier afin de charger en mémoire les données. Après avoir exécuté les deux codes, nous comparerons les résultats obtenus."
   ]
  },
  {
   "cell_type": "markdown",
   "metadata": {},
   "source": [
    "## Méthode 1 - utilisation de *csv.reader()*"
   ]
  },
  {
   "cell_type": "code",
   "execution_count": null,
   "metadata": {},
   "outputs": [],
   "source": [
    "# version 1\n",
    "\n",
    "import csv\n",
    "\n",
    "fichier = open('titanic.csv', 'r')      # ouverture en lecture du fichier\n",
    "table1 = list(csv.reader(fichier, delimiter=';'))"
   ]
  },
  {
   "cell_type": "markdown",
   "metadata": {},
   "source": [
    "**Question 1** - Afficher le contenu de *table1*. Quel est le type du contenu de la variable *table1* ?"
   ]
  },
  {
   "cell_type": "code",
   "execution_count": null,
   "metadata": {},
   "outputs": [],
   "source": []
  },
  {
   "cell_type": "markdown",
   "metadata": {},
   "source": [
    "**Question 2** - Afficher les descripteurs de la table (sous la forme d'un tableau).\n",
    "À quel indice du tableau *table1* trouve-t-on le premier passager ?"
   ]
  },
  {
   "cell_type": "code",
   "execution_count": null,
   "metadata": {},
   "outputs": [],
   "source": []
  },
  {
   "cell_type": "markdown",
   "metadata": {},
   "source": [
    "**Question 3** - Traduire par un court paragraphe en français le résultat de la commande ci-dessous."
   ]
  },
  {
   "cell_type": "code",
   "execution_count": null,
   "metadata": {},
   "outputs": [],
   "source": [
    "table1[819]"
   ]
  },
  {
   "cell_type": "markdown",
   "metadata": {},
   "source": [
    "**Question 4** - Ecrire une commande pour afficher le nom du passager correspondant à l'enregistrement numéro 819 (c'est-à-dire pour l'indice 819 du tableau)."
   ]
  },
  {
   "cell_type": "code",
   "execution_count": null,
   "metadata": {},
   "outputs": [],
   "source": []
  },
  {
   "cell_type": "markdown",
   "metadata": {},
   "source": [
    "## Méthode 2 - Utilisation de *csv.DictReader()*"
   ]
  },
  {
   "cell_type": "code",
   "execution_count": null,
   "metadata": {},
   "outputs": [],
   "source": [
    "# version 2\n",
    "\n",
    "import csv\n",
    "\n",
    "fichier = open('titanic.csv', 'r')      # ouverture en lecture du fichier\n",
    "table2 = list(csv.DictReader(fichier, delimiter=';'))"
   ]
  },
  {
   "cell_type": "markdown",
   "metadata": {},
   "source": [
    "La variable *table2* contient un tableau d'objets d'un type encore jamais rencontré : le type **OrderedDict**. C'est  une variante du type **dictionnaire** qui garde en mémoire l'ordre dans lequel les entrées ont été ajoutées. En pratique, nous traiterons ces objets comme des objets de type dictionnaire."
   ]
  },
  {
   "cell_type": "code",
   "execution_count": 2,
   "metadata": {
    "scrolled": true
   },
   "outputs": [
    {
     "ename": "NameError",
     "evalue": "name 'table2' is not defined",
     "output_type": "error",
     "traceback": [
      "\u001b[1;31m---------------------------------------------------------------------------\u001b[0m",
      "\u001b[1;31mNameError\u001b[0m                                 Traceback (most recent call last)",
      "\u001b[1;32m<ipython-input-2-5c725fe651ee>\u001b[0m in \u001b[0;36m<module>\u001b[1;34m\u001b[0m\n\u001b[0;32m      1\u001b[0m \u001b[1;31m# exemple : table2 est un tableau.\u001b[0m\u001b[1;33m\u001b[0m\u001b[1;33m\u001b[0m\u001b[1;33m\u001b[0m\u001b[0m\n\u001b[0;32m      2\u001b[0m \u001b[1;31m# L'enregistrement à l'indice n° 20 contient un objet de type OrderedDict\u001b[0m\u001b[1;33m\u001b[0m\u001b[1;33m\u001b[0m\u001b[1;33m\u001b[0m\u001b[0m\n\u001b[1;32m----> 3\u001b[1;33m \u001b[0mtable2\u001b[0m\u001b[1;33m[\u001b[0m\u001b[1;36m20\u001b[0m\u001b[1;33m]\u001b[0m\u001b[1;33m\u001b[0m\u001b[1;33m\u001b[0m\u001b[0m\n\u001b[0m",
      "\u001b[1;31mNameError\u001b[0m: name 'table2' is not defined"
     ]
    }
   ],
   "source": [
    "# exemple : table2 est un tableau.\n",
    "# L'enregistrement à l'indice n° 20 contient un objet de type OrderedDict\n",
    "table2[20]"
   ]
  },
  {
   "cell_type": "code",
   "execution_count": null,
   "metadata": {},
   "outputs": [],
   "source": [
    "# on accède aux valeurs comme pour un type dictionnaire, en précisant la clé :\n",
    "table2[20]['tarif']"
   ]
  },
  {
   "cell_type": "markdown",
   "metadata": {},
   "source": [
    "**Question 5** - Ecrire une commande pour afficher le nom de la passagère présentée à la question 4, en utilisant la variable *table2*. Attention à l'indice et à la manière d'afficher une entrée de dictionnaire, différente de celle d'un tableau."
   ]
  },
  {
   "cell_type": "code",
   "execution_count": null,
   "metadata": {},
   "outputs": [],
   "source": []
  },
  {
   "cell_type": "markdown",
   "metadata": {},
   "source": [
    "**Question 6** - Laquelle des deux méthodes vous paraît la plus judicieuse pour récupérer la table à partir du fichier *csv* ? Pourquoi ?"
   ]
  },
  {
   "cell_type": "markdown",
   "metadata": {},
   "source": [
    "# 2  - Validation des données"
   ]
  },
  {
   "cell_type": "markdown",
   "metadata": {},
   "source": [
    "Nous travaillerons désormais sur la table extraite à l'aide de *csv.DictReader()*. Pour plus de simplicité, on renomme **table** la variable *table2*."
   ]
  },
  {
   "cell_type": "code",
   "execution_count": null,
   "metadata": {},
   "outputs": [],
   "source": [
    "table = table2"
   ]
  },
  {
   "cell_type": "markdown",
   "metadata": {},
   "source": [
    "Les données récupérées dans la table ne sont pas toutes exploitables. Dans notre exemple de liste des passagers, les champs **age** et **tarif** sont typiquement des nombres entiers, or ils ont été récupérés comme des chaînes de caractères, ce qui peut compliquer leur exploitation ultérieure (test d'égalité avec un autre nombre, comparaison, etc.). Il est donc souhaitable de modifier la table avant son exploitation."
   ]
  },
  {
   "cell_type": "code",
   "execution_count": null,
   "metadata": {},
   "outputs": [],
   "source": [
    "# compléter le code ci-dessous et écrire au moins un test\n",
    "for p in table:\n",
    "    # transformation de l'âge : on laisse '' s'il est inconnu, sinon on convertit en un nombre entier\n",
    "    if p['age'] != '':\n",
    "        p['age'] = int(p['age'])\n",
    "    # transformation du tarif : on laisse '' s'il est inconnu, sinon on convertit en un nombre entier\n",
    "    # ... à compléter...\n",
    "  "
   ]
  },
  {
   "cell_type": "markdown",
   "metadata": {},
   "source": [
    "# 3 - Recherche dans une table"
   ]
  },
  {
   "cell_type": "markdown",
   "metadata": {},
   "source": [
    "Une fois les données chargées dans une table, il est possible de les exploiter pour en extraire certaines en fonction de différents critères ou bien pour produire des statistiques. Dans le domaine des bases de données, de telles manipulations sont appelées des **requêtes**."
   ]
  },
  {
   "cell_type": "markdown",
   "metadata": {},
   "source": [
    "## 3.1 - Recherche en fonction d'un attribut clé"
   ]
  },
  {
   "cell_type": "markdown",
   "metadata": {},
   "source": [
    "Exécuter le code ci-dessous pour définir la fonction *app*. Analyser son code ou exécuter quelques appels pour la tester : décrire ce que fait cette fonction. "
   ]
  },
  {
   "cell_type": "code",
   "execution_count": null,
   "metadata": {},
   "outputs": [],
   "source": [
    "def app(v, t):\n",
    "    for e in t:\n",
    "        if e['age'] == v:\n",
    "            return True\n",
    "    return False\n",
    "\n",
    "app(120, table2)"
   ]
  },
  {
   "cell_type": "markdown",
   "metadata": {},
   "source": [
    "**Question 7** - En s'inspirant fortement de la fonction précédente, écrire une nouvelle fonction *app_cle* qui reçoit en argument :\n",
    "* le nom d'un champ **n**, par exemple 'survie' ou 'sexe'\n",
    "* une valeur **v** (nombre ou chaîne), par exemple '1'\n",
    "* une table **t** sous forme de tableau de dictionnaires\n",
    "et qui retourne *True* si la valeur **v** est présente au moins une fois dans la colonne **n** de la table **t**, *False* sinon."
   ]
  },
  {
   "cell_type": "code",
   "execution_count": null,
   "metadata": {},
   "outputs": [],
   "source": [
    "# définition de la fonction app_cle\n",
    "def app_cle(n, v, t):\n",
    "    # ..."
   ]
  },
  {
   "cell_type": "markdown",
   "metadata": {},
   "source": [
    "Tester votre fonction à l'aide des commandes ci-dessous :"
   ]
  },
  {
   "cell_type": "code",
   "execution_count": null,
   "metadata": {},
   "outputs": [],
   "source": [
    "# tests\n",
    "app_cle('nom', 'Lam, Mr. Ali', table)\n",
    "app_cle('age', 79, table)"
   ]
  },
  {
   "cell_type": "markdown",
   "metadata": {},
   "source": [
    "## 3.2 - Recherche d'une donnée simple"
   ]
  },
  {
   "cell_type": "markdown",
   "metadata": {},
   "source": [
    "**Question 8** - Ecrire le code d'une fonction *rech* qui reçoit en argument :\n",
    "* la table **t**\n",
    "* la valeur **surv** pour le champ 'survie' (qui peut donc être soit '0' soit '1')\n",
    "* la valeur **cl** pour le champ 'classe' ('1', '2' ou '3')\n",
    "* la valeur **age** pour l'âge (nombre)\n",
    "\n",
    "et qui retourne le nom du passager de la classe **cl**, d'âge **age** et ayant le statut de survie **surv**."
   ]
  },
  {
   "cell_type": "code",
   "execution_count": null,
   "metadata": {},
   "outputs": [],
   "source": [
    "# définition\n",
    "def rech(t, surv, cl, age):\n",
    "    #\n",
    "    \n",
    "    \n",
    "\n",
    "# tests de la fonction\n",
    "rech(table, '1', '1', 80)\n",
    "rech(table, '1', '1', 49)"
   ]
  },
  {
   "cell_type": "markdown",
   "metadata": {},
   "source": [
    "**Question 9** - Que se passe-t-il si plusieurs passagers vérifient les mêmes critères d'âge, de classe et de survie ? "
   ]
  },
  {
   "cell_type": "markdown",
   "metadata": {},
   "source": [
    "**Question 10** - Ecrire une nouvelle fonction *rech2* qui renvoie un tableau des noms des passagers répondant aux mêmes critères."
   ]
  },
  {
   "cell_type": "code",
   "execution_count": null,
   "metadata": {},
   "outputs": [],
   "source": [
    "# définition de rech2\n",
    "def rech2(t, surv, cl, age):\n",
    "    #\n",
    "    \n",
    "    \n",
    "# tests de la fonction\n",
    "rech2(table, '1', '1', 80)\n",
    "rech2(table, '1', '1', 49)"
   ]
  },
  {
   "cell_type": "markdown",
   "metadata": {},
   "source": [
    "## 3.3 - Statistiques"
   ]
  },
  {
   "cell_type": "markdown",
   "metadata": {},
   "source": [
    "**Question 11** - Ecrire une fonction qui calcule et retourne l'âge moyen de tous les passagers."
   ]
  },
  {
   "cell_type": "code",
   "execution_count": null,
   "metadata": {},
   "outputs": [],
   "source": [
    "# \n",
    "def moyenne(t):\n",
    "    \n",
    "    \n",
    "moyenne(table)"
   ]
  },
  {
   "cell_type": "markdown",
   "metadata": {},
   "source": [
    "**Question 12** - Ecrire une fonction qui calcule et retourne l'âge moyen des passagers d'une classe donnée."
   ]
  },
  {
   "cell_type": "code",
   "execution_count": null,
   "metadata": {},
   "outputs": [],
   "source": [
    "#\n",
    "def moyenne_cla(t, classe):\n",
    "    #\n",
    "    \n",
    "    \n",
    "moyenne_cla(table, '1')\n",
    "moyenne_cla(table, '2')\n",
    "moyenne_cla(table, '3')"
   ]
  },
  {
   "cell_type": "markdown",
   "metadata": {},
   "source": [
    "**Question 13** - La fonction ci-dessous calcule le taux moyen de survie de tous les passagers."
   ]
  },
  {
   "cell_type": "code",
   "execution_count": null,
   "metadata": {},
   "outputs": [],
   "source": [
    "# calcul du taux de survie moyen\n",
    "def taux_survie(t):\n",
    "    somme = 0\n",
    "    for p in t:\n",
    "        somme = somme + int(p['survie'])\n",
    "    return somme/len(t)\n",
    "\n",
    "taux_survie(table)"
   ]
  },
  {
   "cell_type": "markdown",
   "metadata": {},
   "source": [
    "Le taux de survie chez les passagers du Titanic était donc proche de 38 %. \n",
    "\n",
    "**Question 14** - Ecrire une fonction calculant le taux moyen de survie en fonction de la classe et du sexe."
   ]
  },
  {
   "cell_type": "code",
   "execution_count": null,
   "metadata": {},
   "outputs": [],
   "source": [
    "# calcul du taux de survie en fonction de la classe et du sexe\n",
    "def taux_survie2(t, classe, sexe):\n",
    "    # \n",
    "    \n",
    "    \n",
    "# tests\n",
    "taux_survie2(table, '1', '2')\n",
    "taux_survie2(table, '3', '1')\n"
   ]
  },
  {
   "cell_type": "markdown",
   "metadata": {},
   "source": [
    "## 3.4 - Sélection de lignes"
   ]
  },
  {
   "cell_type": "markdown",
   "metadata": {},
   "source": [
    "La fonction ci-dessous retourne un tableau contenant uniquement les enregistrements correspondant à la classe et à la survie passées en argument.\n",
    "\n",
    "Il faut remarquer la construction utilisée dans cette fonction, qui est une construction **par compréhension** (*cf.* cours sur les tableaux)."
   ]
  },
  {
   "cell_type": "code",
   "execution_count": null,
   "metadata": {},
   "outputs": [],
   "source": [
    "# sélection des lignes\n",
    "def selection1(t, classe, survie):\n",
    "    return [p for p in t if p['classe'] == classe and p['survie'] == survie]\n",
    "\n",
    "# test\n",
    "selection1(table, '3' ,'1')"
   ]
  },
  {
   "cell_type": "markdown",
   "metadata": {},
   "source": [
    "**Question 15** - Ecrire une fonction qui retourne un tableau contenant uniquement les enregistrements correspondant au sexe et à l'intervalle d'âge passé en argument :"
   ]
  },
  {
   "cell_type": "code",
   "execution_count": null,
   "metadata": {},
   "outputs": [],
   "source": [
    "# fonction de sélection par âge et sexe\n",
    "def selection2(t, sexe, age_mini, age_maxi):\n",
    "    #\n",
    "    \n",
    "    \n",
    "    \n",
    "# test\n",
    "table_h = selection2(table, '1', 18, 60)\n",
    "len(table_h)"
   ]
  },
  {
   "cell_type": "markdown",
   "metadata": {},
   "source": [
    "**Question 16** - Utiliser cette fonction et la fonction *taux_survie2* pour vérifier si les femmes, tous âges confondus, ont davantage survécus que les hommes (sans considérer les enfants ni les hommes âgés)."
   ]
  },
  {
   "cell_type": "code",
   "execution_count": null,
   "metadata": {},
   "outputs": [],
   "source": []
  },
  {
   "cell_type": "markdown",
   "metadata": {},
   "source": [
    "## 3.5 - Sélection de lignes et de colonnes"
   ]
  },
  {
   "cell_type": "markdown",
   "metadata": {},
   "source": [
    "**Question 17** - En reprenant le code de la fonction *selection2*, écrire une fonction qui retourne une table contenant uniquement les enregistrements répondant aux critères, mais avec uniquement les champs 'classe', 'survie' et 'nom'."
   ]
  },
  {
   "cell_type": "code",
   "execution_count": null,
   "metadata": {},
   "outputs": [],
   "source": []
  },
  {
   "cell_type": "markdown",
   "metadata": {},
   "source": [
    "# 4 - Fusionner deux tables"
   ]
  },
  {
   "cell_type": "markdown",
   "metadata": {},
   "source": [
    "Nous allons maintenant travailler sur des données issues de la surveillance du trafic aérien. On dispose de plusieurs fichiers *csv* contenant les données récupérées à partir du trafic aérien tel que présenté par le site Opensky.org. Ces fichiers correspondent à différents états du trafic, capturés à quelques minutes d'intervalles les uns des autres."
   ]
  },
  {
   "cell_type": "markdown",
   "metadata": {},
   "source": [
    "Les données extraites sont les suivantes :\n",
    "* ***icao24*** : un **identifiant unique** de l'avion, sous forme de code à 6 caractères hexadécimaux\n",
    "* ***callsign*** : l'indicatif radio de l'avion\n",
    "* **baro_altitude** : l'altitude (en m)\n",
    "* **heading** : le cap (en degrés)\n",
    "* **last_contact** : le *timestamp* du dernier contact radar\n",
    "* **latitude**\n",
    "* **longitude**\n",
    "* **on_ground** : True si l'avion est au sol, False sinon\n",
    "* **origin_country** : le pays d'origine de l'avion\n",
    "* ***squawk*** : le code transpondeur de l'avion, sous forme de code à 4 caractères octaux\n",
    "* **time_position** : le *timestamp* associé à la position indiquée\n",
    "* **velocity** : la vitesse de l'avion par rapport au sol (en m/s)\n",
    "* **vertical_rate** : la vitesse verticale (en m/s)"
   ]
  },
  {
   "cell_type": "markdown",
   "metadata": {},
   "source": [
    "L'objectif de ce micro-projet est de construire, à partir de ces différents fichiers, une table des avions observés contenant :\n",
    "* ***icao24*** : un **identifiant unique** de l'avion, sous forme de code à 6 caractères hexadécimaux\n",
    "* ***callsign*** : l'indicatif radio de l'avion\n",
    "* ***squawk*** : le code transpondeur de l'avion, sous forme de code à 4 caractères octaux\n",
    "* **last_contact** : le *timestamp* du dernier contact radar\n",
    "* **origin_country** : le pays d'origine de l'avion\n",
    "* un tableau de dictionnaires **t_altitudes** où chaque clé est le *timestamp* **time_position** et la valeur associée est **baro_altitude** correspondante\n",
    "* un tableau de dictionnaires **t_heading** où chaque clé est le *timestamp* **time_position** et la valeur associée est **heading**\n",
    "* un tableau de dictionnaires **t_position** où chaque clé est le *timestamp* **time_position** et la valeur associée est un tuple **(latitude, longitude)**\n",
    "* un tableau de dictionnaires **t_speed** où chaque clé est le *timestamp* **time_position** et la valeur associée est un tuple **(velocity, vertical_rate)**"
   ]
  },
  {
   "cell_type": "code",
   "execution_count": null,
   "metadata": {},
   "outputs": [],
   "source": [
    "# fichiers trafic\n",
    "FILES = ['1255.csv', '1258.csv', '1301.csv', '1305.csv', '1309.csv', '1311.csv']"
   ]
  }
 ],
 "metadata": {
  "kernelspec": {
   "display_name": "Python 3",
   "language": "python",
   "name": "python3"
  },
  "language_info": {
   "codemirror_mode": {
    "name": "ipython",
    "version": 3
   },
   "file_extension": ".py",
   "mimetype": "text/x-python",
   "name": "python",
   "nbconvert_exporter": "python",
   "pygments_lexer": "ipython3",
   "version": "3.7.3"
  }
 },
 "nbformat": 4,
 "nbformat_minor": 4
}
